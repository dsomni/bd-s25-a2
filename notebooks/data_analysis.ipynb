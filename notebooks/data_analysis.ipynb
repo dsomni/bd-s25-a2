{
 "cells": [
  {
   "cell_type": "markdown",
   "metadata": {},
   "source": [
    "# Data Analysis"
   ]
  },
  {
   "cell_type": "code",
   "execution_count": 11,
   "metadata": {},
   "outputs": [],
   "source": [
    "import json\n",
    "import os\n",
    "import warnings\n",
    "from typing import Literal\n",
    "\n",
    "import psycopg2\n",
    "from neo4j import GraphDatabase\n",
    "from pymongo import MongoClient\n",
    "\n",
    "warnings.filterwarnings(\"ignore\")"
   ]
  },
  {
   "cell_type": "code",
   "execution_count": 3,
   "metadata": {},
   "outputs": [],
   "source": [
    "QUERY_PATH = \"../scripts/queries\""
   ]
  },
  {
   "cell_type": "markdown",
   "metadata": {},
   "source": [
    "## Query loading"
   ]
  },
  {
   "cell_type": "code",
   "execution_count": null,
   "metadata": {},
   "outputs": [],
   "source": [
    "def load_query(name: str) -> str:\n",
    "    with open(os.path.join(QUERY_PATH, name), \"r\") as file:\n",
    "        return file.read()"
   ]
  },
  {
   "cell_type": "markdown",
   "metadata": {},
   "source": [
    "## Execute queries"
   ]
  },
  {
   "cell_type": "code",
   "execution_count": 18,
   "metadata": {
    "notebookRunGroups": {
     "groupValue": "1"
    }
   },
   "outputs": [],
   "source": [
    "def execute_postgres(query_name: str):\n",
    "    with psycopg2.connect(\n",
    "        dbname=\"ecommerce\",\n",
    "        user=\"postgres\",\n",
    "    ) as conn:\n",
    "        with conn.cursor() as cursor:\n",
    "            query = load_query(f\"{query_name}.sql\")\n",
    "            cursor.execute(query)\n",
    "            return cursor.fetchall()\n",
    "\n",
    "\n",
    "def execute_mongo(\n",
    "    query_name: str,\n",
    "    collection_name: str,\n",
    "    action: Literal[\"find\", \"aggregate\"] = \"aggregate\",\n",
    "):\n",
    "    with MongoClient(\"mongodb://localhost:27017/\") as client:\n",
    "        collection = client[\"bd-a2\"][collection_name]\n",
    "        query = json.loads(load_query(f\"{query_name}.json\"))\n",
    "        if action == \"aggregate\":\n",
    "            return list(collection.aggregate(query))\n",
    "        if action == \"find\":\n",
    "            return collection.find(query)\n",
    "\n",
    "\n",
    "def execute_neo4j(query_name: str):\n",
    "    with GraphDatabase.driver(\n",
    "        \"bolt://localhost:7687/neo4j\", auth=(\"neo4j\", \"11111111\")\n",
    "    ) as driver:\n",
    "        with driver.session() as session:\n",
    "            query = load_query(f\"{query_name}.cypher\")\n",
    "            results = session.run(query)  # type: ignore\n",
    "            return list(results)"
   ]
  },
  {
   "cell_type": "markdown",
   "metadata": {},
   "source": [
    "## Query execution"
   ]
  },
  {
   "cell_type": "markdown",
   "metadata": {},
   "source": [
    "### Q1\n",
    "\n",
    "Analyze the data to find out whether campaigns attracted the customers to purchase products. The business aims to engage more customers in next campaigns by leveraging the social network info."
   ]
  },
  {
   "cell_type": "code",
   "execution_count": 79,
   "metadata": {},
   "outputs": [
    {
     "data": {
      "text/plain": [
       "2.175478391655022"
      ]
     },
     "execution_count": 79,
     "metadata": {},
     "output_type": "execute_result"
    }
   ],
   "source": [
    "def execute_q1() -> float:\n",
    "    postgres_res = execute_postgres(\"q1\")\n",
    "    mongo_res = execute_mongo(\"q1\", \"campaigns\")\n",
    "    neo4j_res = execute_neo4j(\"q1\")\n",
    "\n",
    "    postgres_res_float = postgres_res[0][0]\n",
    "    mongo_res_float = mongo_res[0][\"purchase_ratio\"]\n",
    "    neo4j_res_float = neo4j_res[0][\"purchase_ratio\"]\n",
    "\n",
    "    assert postgres_res_float == mongo_res_float == neo4j_res_float\n",
    "\n",
    "    return postgres_res_float\n",
    "\n",
    "\n",
    "purchase_personalization_ratio = execute_q1()\n",
    "purchase_personalization_ratio"
   ]
  },
  {
   "cell_type": "markdown",
   "metadata": {},
   "source": [
    "### Q2\n",
    "\n",
    "The business has logged behavior of customers on the platform. Use this information to find out which top personalized recommended products we can display in the home page of the user."
   ]
  },
  {
   "cell_type": "code",
   "execution_count": 119,
   "metadata": {},
   "outputs": [
    {
     "data": {
      "text/plain": [
       "[1005135,\n",
       " 28717064,\n",
       " 7004807,\n",
       " 1003317,\n",
       " 7005751,\n",
       " 1005105,\n",
       " 1004258,\n",
       " 1004839,\n",
       " 1005112,\n",
       " 7004492]"
      ]
     },
     "execution_count": 119,
     "metadata": {},
     "output_type": "execute_result"
    }
   ],
   "source": [
    "# For user 563016948\n",
    "def execute_q2() -> list[int]:\n",
    "    postgres_res = execute_postgres(\"q2\")\n",
    "    mongo_res = execute_mongo(\"q2\", \"users\")\n",
    "    neo4j_res = execute_neo4j(\"q2\")\n",
    "\n",
    "    postgres_res_list = [x[0] for x in postgres_res]\n",
    "    mongo_res_list = [int(x[\"_id\"]) for x in mongo_res]\n",
    "    neo4j_res_list = [x[\"p.product_id\"] for x in neo4j_res]\n",
    "\n",
    "    assert postgres_res_list == mongo_res_list == neo4j_res_list\n",
    "\n",
    "    return postgres_res_list\n",
    "\n",
    "\n",
    "popular_products = execute_q2()\n",
    "popular_products"
   ]
  },
  {
   "cell_type": "markdown",
   "metadata": {},
   "source": [
    "### Q3\n",
    "\n",
    "Based on the top products you obtained above, find out which products can be retrieved by full text search for products based on keywords from the category_code of the products."
   ]
  },
  {
   "cell_type": "code",
   "execution_count": 123,
   "metadata": {},
   "outputs": [
    {
     "data": {
      "text/plain": [
       "[(1000894, 'electronics.smartphone'),\n",
       " (1000978, 'electronics.smartphone'),\n",
       " (1001588, 'electronics.smartphone'),\n",
       " (1001605, 'electronics.smartphone'),\n",
       " (1001606, 'electronics.smartphone'),\n",
       " (1002042, 'electronics.smartphone'),\n",
       " (1002062, 'electronics.smartphone'),\n",
       " (1002098, 'electronics.smartphone'),\n",
       " (1002099, 'electronics.smartphone'),\n",
       " (1002100, 'electronics.smartphone'),\n",
       " (1002101, 'electronics.smartphone'),\n",
       " (1002102, 'electronics.smartphone'),\n",
       " (1002103, 'electronics.smartphone'),\n",
       " (1002225, 'electronics.smartphone'),\n",
       " (1002266, 'electronics.smartphone'),\n",
       " (1002308, 'electronics.smartphone'),\n",
       " (1002310, 'electronics.smartphone'),\n",
       " (1002367, 'electronics.smartphone'),\n",
       " (1002396, 'electronics.smartphone'),\n",
       " (1002398, 'electronics.smartphone'),\n",
       " (1002415, 'electronics.smartphone'),\n",
       " (1002460, 'electronics.smartphone'),\n",
       " (1002482, 'electronics.smartphone'),\n",
       " (1002484, 'electronics.smartphone'),\n",
       " (1002494, 'electronics.smartphone'),\n",
       " (1002497, 'electronics.smartphone'),\n",
       " (1002522, 'electronics.smartphone'),\n",
       " (1002524, 'electronics.smartphone'),\n",
       " (1002525, 'electronics.smartphone'),\n",
       " (1002527, 'electronics.smartphone'),\n",
       " (1002528, 'electronics.smartphone'),\n",
       " (1002531, 'electronics.smartphone'),\n",
       " (1002532, 'electronics.smartphone'),\n",
       " (1002535, 'electronics.smartphone'),\n",
       " (1002536, 'electronics.smartphone'),\n",
       " (1002538, 'electronics.smartphone'),\n",
       " (1002540, 'electronics.smartphone'),\n",
       " (1002541, 'electronics.smartphone'),\n",
       " (1002542, 'electronics.smartphone'),\n",
       " (1002544, 'electronics.smartphone'),\n",
       " (1002545, 'electronics.smartphone'),\n",
       " (1002546, 'electronics.smartphone'),\n",
       " (1002547, 'electronics.smartphone'),\n",
       " (1002548, 'electronics.smartphone'),\n",
       " (1002549, 'electronics.smartphone'),\n",
       " (1002550, 'electronics.smartphone'),\n",
       " (1002628, 'electronics.smartphone'),\n",
       " (1002629, 'electronics.smartphone'),\n",
       " (1002633, 'electronics.smartphone'),\n",
       " (1002634, 'electronics.smartphone'),\n",
       " (1002662, 'electronics.smartphone'),\n",
       " (1002666, 'electronics.smartphone'),\n",
       " (1002678, 'electronics.smartphone'),\n",
       " (1002724, 'electronics.smartphone'),\n",
       " (1002757, 'electronics.smartphone'),\n",
       " (1002786, 'electronics.smartphone'),\n",
       " (1002796, 'electronics.smartphone'),\n",
       " (1002808, 'electronics.smartphone'),\n",
       " (1002827, 'electronics.smartphone'),\n",
       " (1002845, 'electronics.smartphone'),\n",
       " (1002846, 'electronics.smartphone'),\n",
       " (1002876, 'electronics.smartphone'),\n",
       " (1002877, 'electronics.smartphone'),\n",
       " (1002881, 'electronics.smartphone'),\n",
       " (1002883, 'electronics.smartphone'),\n",
       " (1002902, 'electronics.smartphone'),\n",
       " (1002904, 'electronics.smartphone'),\n",
       " (1002905, 'electronics.smartphone'),\n",
       " (1002906, 'electronics.smartphone'),\n",
       " (1002923, 'electronics.smartphone'),\n",
       " (1002929, 'electronics.smartphone'),\n",
       " (1002974, 'electronics.smartphone'),\n",
       " (1002987, 'electronics.smartphone'),\n",
       " (1002995, 'electronics.smartphone'),\n",
       " (1002996, 'electronics.smartphone'),\n",
       " (1003001, 'electronics.smartphone'),\n",
       " (1003013, 'electronics.smartphone'),\n",
       " (1003015, 'electronics.smartphone'),\n",
       " (1003028, 'electronics.smartphone'),\n",
       " (1003039, 'electronics.smartphone'),\n",
       " (1003048, 'electronics.smartphone'),\n",
       " (1003049, 'electronics.smartphone'),\n",
       " (1003050, 'electronics.smartphone'),\n",
       " (1003051, 'electronics.smartphone'),\n",
       " (1003052, 'electronics.smartphone'),\n",
       " (1003066, 'electronics.smartphone'),\n",
       " (1003073, 'electronics.smartphone'),\n",
       " (1003074, 'electronics.smartphone'),\n",
       " (1003078, 'electronics.smartphone'),\n",
       " (1003080, 'electronics.smartphone'),\n",
       " (1003096, 'electronics.smartphone'),\n",
       " (1003102, 'electronics.smartphone'),\n",
       " (1003105, 'electronics.smartphone'),\n",
       " (1003112, 'electronics.smartphone'),\n",
       " (1003114, 'electronics.smartphone'),\n",
       " (1003129, 'electronics.smartphone'),\n",
       " (1003141, 'electronics.smartphone'),\n",
       " (1003153, 'electronics.smartphone'),\n",
       " (1003168, 'electronics.smartphone'),\n",
       " (1003173, 'electronics.smartphone')]"
      ]
     },
     "execution_count": 123,
     "metadata": {},
     "output_type": "execute_result"
    }
   ],
   "source": [
    "postgres_res = execute_postgres(\"q3\")\n",
    "postgres_res"
   ]
  }
 ],
 "metadata": {
  "kernelspec": {
   "display_name": ".venv",
   "language": "python",
   "name": "python3"
  },
  "language_info": {
   "codemirror_mode": {
    "name": "ipython",
    "version": 3
   },
   "file_extension": ".py",
   "mimetype": "text/x-python",
   "name": "python",
   "nbconvert_exporter": "python",
   "pygments_lexer": "ipython3",
   "version": "3.12.4"
  }
 },
 "nbformat": 4,
 "nbformat_minor": 2
}
